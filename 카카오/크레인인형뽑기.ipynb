{
 "cells": [
  {
   "cell_type": "code",
   "execution_count": null,
   "metadata": {},
   "outputs": [],
   "source": [
    "#해결방안1(두번째 시도)\n",
    "def solution(board, moves):\n",
    "    stack_box = [0]\n",
    "    count = 0\n",
    "    \n",
    "    for i in moves:\n",
    "        for j in range(len(board)):\n",
    "            if board[j][i-1]:\n",
    "                choosen = board[j][i-1]\n",
    "                board[j][i-1] = 0\n",
    "\n",
    "                if stack_box[-1] == choosen:\n",
    "                    stack_box.pop(-1)\n",
    "                    count +=2\n",
    "                else:\n",
    "                    stack_box.append(choosen)\n",
    "                break\n",
    "    return count    "
   ]
  },
  {
   "cell_type": "code",
   "execution_count": null,
   "metadata": {},
   "outputs": [],
   "source": [
    "#해결방안2(첫번째 시도)\n",
    "def solution(board, moves):\n",
    "    new_board = [i for i in list(map(list, zip(*board)))]\n",
    "    choosen_box = [0]\n",
    "    count=0\n",
    "    \n",
    "    for num,line in enumerate(new_board):\n",
    "        new_line = []\n",
    "        for item in line:\n",
    "            if item!=0:\n",
    "                new_line.append(item)\n",
    "        new_board[num] = new_line\n",
    "\n",
    "    \n",
    "    for position in moves:\n",
    "        if new_board[position-1]:\n",
    "            choosen = new_board[position-1].pop(0)\n",
    "            if choosen_box[-1] != choosen:\n",
    "                choosen_box.append(choosen)\n",
    "            else:\n",
    "                choosen_box.pop(-1)\n",
    "                count+=2\n",
    "        \n",
    "    return count"
   ]
  },
  {
   "cell_type": "code",
   "execution_count": null,
   "metadata": {},
   "outputs": [],
   "source": []
  }
 ],
 "metadata": {
  "interpreter": {
   "hash": "767d51c1340bd893661ea55ea3124f6de3c7a262a8b4abca0554b478b1e2ff90"
  },
  "kernelspec": {
   "display_name": "Python 3.8.5 64-bit",
   "language": "python",
   "name": "python3"
  },
  "language_info": {
   "codemirror_mode": {
    "name": "ipython",
    "version": 3
   },
   "file_extension": ".py",
   "mimetype": "text/x-python",
   "name": "python",
   "nbconvert_exporter": "python",
   "pygments_lexer": "ipython3",
   "version": "3.8.8"
  },
  "orig_nbformat": 4
 },
 "nbformat": 4,
 "nbformat_minor": 2
}
