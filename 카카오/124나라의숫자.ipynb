{
 "cells": [
  {
   "cell_type": "code",
   "execution_count": 20,
   "metadata": {},
   "outputs": [],
   "source": [
    "# from itertools import product\n",
    "# def solution(n):\n",
    "#     num = 0\n",
    "#     for i in range(1,999):\n",
    "#         previous = num\n",
    "#         num += 3**(i)\n",
    "#         if n>previous and n<=num:\n",
    "#             break\n",
    "    \n",
    "#     index = n - previous\n",
    "#     digit= ['1', '2', '4']\n",
    "#     answer_str = ''\n",
    "#     leverage = index\n",
    "#     for j in range(i, 0, -1): \n",
    "#         digit_index = leverage//(3**(j-1))\n",
    "#         leverage = leverage%(3**(j-1))\n",
    "#         answer_str+= digit[digit_index]\n",
    "#     print(answer_str)\n",
    "#     # num_list = list(product('124',repeat=i))\n",
    "#     # answer_str=''\n",
    "#     # for i in num_list[index]:\n",
    "#     #     answer_str+=i\n",
    "#     return answer_str"
   ]
  },
  {
   "cell_type": "code",
   "execution_count": 39,
   "metadata": {},
   "outputs": [
    {
     "data": {
      "text/plain": [
       "[('1', '2', '4')]"
      ]
     },
     "execution_count": 39,
     "metadata": {},
     "output_type": "execute_result"
    }
   ],
   "source": [
    "def solution(n):\n",
    "    \n",
    "    digits = ['1', '2', '4']\n",
    "    answer = ''\n",
    "    while n:\n",
    "        n -= 1\n",
    "        answer = digits[n%3] + answer\n",
    "        n = n//3\n",
    "    return answer"
   ]
  },
  {
   "cell_type": "code",
   "execution_count": 43,
   "metadata": {},
   "outputs": [
    {
     "name": "stdout",
     "output_type": "stream",
     "text": [
      "1\n"
     ]
    }
   ],
   "source": [
    "#3진법 응용이 중요"
   ]
  }
 ],
 "metadata": {
  "interpreter": {
   "hash": "297e50f330ef3006f2cf2de334d1afc08b5c25ccea1da1dbdd3d598553a4f695"
  },
  "kernelspec": {
   "display_name": "Python 3.7.9 64-bit (windows store)",
   "language": "python",
   "name": "python3"
  },
  "language_info": {
   "codemirror_mode": {
    "name": "ipython",
    "version": 3
   },
   "file_extension": ".py",
   "mimetype": "text/x-python",
   "name": "python",
   "nbconvert_exporter": "python",
   "pygments_lexer": "ipython3",
   "version": "3.8.8"
  },
  "orig_nbformat": 4
 },
 "nbformat": 4,
 "nbformat_minor": 2
}
