{
 "cells": [
  {
   "cell_type": "code",
   "execution_count": 64,
   "metadata": {},
   "outputs": [],
   "source": [
    "def solution(m, n, puddles):\n",
    "    dp = [ [0]*m for _ in range(n) ]\n",
    "\n",
    "    for i in puddles:\n",
    "        dp[i[1]-1][i[0]-1] = -1\n",
    "\n",
    "    dp[1-1][1-1] = 1\n",
    "\n",
    "    for sum in range(3,m+n+1):\n",
    "        for j in range(1,sum):\n",
    "            i = sum - j \n",
    "            if i <= n and j<=m:\n",
    "                if dp[i-1][j-1] >= 0 :\n",
    "                    if (i-2) >= 0 and dp[i-2][j-1] >= 0:\n",
    "                        dp[i-1][j-1] += dp[i-2][j-1] \n",
    "                    if (j-2) >= 0 and dp[i-1][j-2] >= 0:\n",
    "                        dp[i-1][j-1] += dp[i-1][j-2]\n",
    "    return dp[n-1][m-1]%1000000007\n"
   ]
  },
  {
   "cell_type": "code",
   "execution_count": 66,
   "metadata": {},
   "outputs": [
    {
     "name": "stdout",
     "output_type": "stream",
     "text": [
      "4\n"
     ]
    }
   ],
   "source": [
    "print(solution(4,3, [[2,2]]))"
   ]
  },
  {
   "cell_type": "code",
   "execution_count": null,
   "metadata": {},
   "outputs": [],
   "source": []
  }
 ],
 "metadata": {
  "interpreter": {
   "hash": "075082b0f8f50d87244e2b897b678a2252afa03d974f16e4e0eca8ab9134a1f2"
  },
  "kernelspec": {
   "display_name": "Python 3.8.8 64-bit ('base': conda)",
   "name": "python3"
  },
  "language_info": {
   "codemirror_mode": {
    "name": "ipython",
    "version": 3
   },
   "file_extension": ".py",
   "mimetype": "text/x-python",
   "name": "python",
   "nbconvert_exporter": "python",
   "pygments_lexer": "ipython3",
   "version": "3.8.8"
  },
  "orig_nbformat": 4
 },
 "nbformat": 4,
 "nbformat_minor": 2
}
