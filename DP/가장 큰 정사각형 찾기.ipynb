{
 "cells": [
  {
   "cell_type": "code",
   "execution_count": null,
   "metadata": {},
   "outputs": [],
   "source": [
    "def solution(board):\n",
    "    n = len(board[0])\n",
    "    m = len(board)\n",
    "    \n",
    "    # if n==1 and m==1:\n",
    "    #     return 1\n",
    "    \n",
    "    route = [[0]*n for _ in range(m)]\n",
    "    route[0] = board[0]\n",
    "    for i in list(range(m)):\n",
    "        route[i][0] = board[i][0]\n",
    "\n",
    "    for i in range(1,m):\n",
    "        for j in range(1,n):\n",
    "            if board[i][j] != 0:\n",
    "                route[i][j] = min(route[i-1][j-1], route[i-1][j], route[i][j-1]) +1\n",
    "\n",
    "    max_route = [ max(i) for i in route]\n",
    "    \n",
    "    return max(max_route)**2"
   ]
  },
  {
   "cell_type": "code",
   "execution_count": null,
   "metadata": {},
   "outputs": [],
   "source": [
    "#level2\n",
    "#DP를 이용해서 푸는 문제\n",
    "#정사각형이 1일 때 예외사항 이 존재 - Why? if board[i][j] != 0 에서 부터 걸리는 것으로 파악되는뎁\n",
    "#1부터 시작하는 것이 적절"
   ]
  }
 ],
 "metadata": {
  "interpreter": {
   "hash": "8d9cf660b075c00e8b2d9c1a9a150513a4f210d59be50b909693b3601914dc46"
  },
  "kernelspec": {
   "display_name": "Python 3.7.10 64-bit ('biobert': conda)",
   "language": "python",
   "name": "python3"
  },
  "language_info": {
   "codemirror_mode": {
    "name": "ipython",
    "version": 3
   },
   "file_extension": ".py",
   "mimetype": "text/x-python",
   "name": "python",
   "nbconvert_exporter": "python",
   "pygments_lexer": "ipython3",
   "version": "3.8.8"
  },
  "orig_nbformat": 4
 },
 "nbformat": 4,
 "nbformat_minor": 2
}
