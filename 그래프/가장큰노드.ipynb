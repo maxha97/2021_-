{
 "cells": [
  {
   "cell_type": "code",
   "execution_count": null,
   "metadata": {},
   "outputs": [],
   "source": [
    "from collections import deque\n",
    "def solution(n, edge):\n",
    "    answer = 0\n",
    "    road = [[] for _ in range(n+1)]\n",
    "    visited = [-1]*(n+1)\n",
    "    \n",
    "    for i,j in edge:\n",
    "        road[i].append(j)\n",
    "        road[j].append(i)\n",
    "    v = deque([[1,1]])\n",
    "    \n",
    "    # def bfs(v, visited, road)\n",
    "        \n",
    "    while v:\n",
    "        node = v.popleft()\n",
    "        num = node[0]\n",
    "        count = node[1]\n",
    "\n",
    "        if visited[num] == -1:\n",
    "            visited[num] = count\n",
    "\n",
    "            for i in road[num]:\n",
    "                v.append([i, count+1])\n",
    "    \n",
    "    maxnum = max(visited)\n",
    "    maxlist = [ i for i in visited if i==maxnum]\n",
    "    \n",
    "    answer = len(maxlist)\n",
    "        \n",
    "    return answer"
   ]
  },
  {
   "cell_type": "markdown",
   "metadata": {},
   "source": [
    "- bfs 함수를 응용하는 것이 중요함\n",
    "- bfs 함수를 while문으로 표현해도 괜찮음\n",
    "- bfs 함수를 만들 때 단순히 노드 번호만 들어가는 것이 아니라, 그것이 몇 번 경로를 지났는지를 고려해야함"
   ]
  },
  {
   "cell_type": "markdown",
   "metadata": {},
   "source": []
  }
 ],
 "metadata": {
  "language_info": {
   "name": "python"
  },
  "orig_nbformat": 4
 },
 "nbformat": 4,
 "nbformat_minor": 2
}
