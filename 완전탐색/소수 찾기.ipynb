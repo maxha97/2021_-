{
 "cells": [
  {
   "cell_type": "code",
   "execution_count": 28,
   "metadata": {},
   "outputs": [],
   "source": [
    "from itertools import permutations\n",
    "import math \n",
    "def isdecimal(number):\n",
    "    for i in range(2, round(math.sqrt(number))+1):\n",
    "        if number % i == 0 and number>i:\n",
    "            return False\n",
    "    return True\n",
    "\n",
    "def solution(numbers):\n",
    "    digits = list(numbers)\n",
    "    answer=[]\n",
    "    \n",
    "    for i in range(1,len(digits)+1):\n",
    "        for j in permutations(digits, i):\n",
    "            num_str = ''\n",
    "            for k in j:\n",
    "                num_str+= k\n",
    "            if isdecimal(int(num_str)) and int(num_str)>=2:\n",
    "                answer.append(int(num_str))\n",
    "    return len(set(answer))"
   ]
  },
  {
   "cell_type": "markdown",
   "metadata": {},
   "source": [
    "문제 설명\n",
    "한자리 숫자가 적힌 종이 조각이 흩어져있습니다. 흩어진 종이 조각을 붙여 소수를 몇 개 만들 수 있는지 알아내려 합니다.\n",
    "\n",
    "각 종이 조각에 적힌 숫자가 적힌 문자열 numbers가 주어졌을 때, 종이 조각으로 만들 수 있는 소수가 몇 개인지 return 하도록 solution 함수를 완성해주세요.\n",
    "\n",
    "제한사항\n",
    "numbers는 길이 1 이상 7 이하인 문자열입니다.\n",
    "numbers는 0~9까지 숫자만으로 이루어져 있습니다.\n",
    "\"013\"은 0, 1, 3 숫자가 적힌 종이 조각이 흩어져있다는 의미입니다.\n",
    "입출력 예\n",
    "numbers\treturn\n",
    "\"17\"\t3\n",
    "\"011\"\t2\n",
    "입출력 예 설명\n",
    "예제 #1\n",
    "[1, 7]으로는 소수 [7, 17, 71]를 만들 수 있습니다.\n",
    "\n",
    "예제 #2\n",
    "[0, 1, 1]으로는 소수 [11, 101]를 만들 수 있습니다.\n",
    "\n",
    "11과 011은 같은 숫자로 취급합니다.\n",
    "https://programmers.co.kr/learn/courses/30/lessons/42839"
   ]
  },
  {
   "cell_type": "code",
   "execution_count": 29,
   "metadata": {},
   "outputs": [
    {
     "data": {
      "text/plain": [
       "1"
      ]
     },
     "execution_count": 29,
     "metadata": {},
     "output_type": "execute_result"
    }
   ],
   "source": [
    "solution('12')"
   ]
  },
  {
   "cell_type": "code",
   "execution_count": 30,
   "metadata": {},
   "outputs": [
    {
     "data": {
      "text/plain": [
       "True"
      ]
     },
     "execution_count": 30,
     "metadata": {},
     "output_type": "execute_result"
    }
   ],
   "source": [
    "isdecimal(2)"
   ]
  },
  {
   "cell_type": "code",
   "execution_count": null,
   "metadata": {},
   "outputs": [],
   "source": []
  }
 ],
 "metadata": {
  "interpreter": {
   "hash": "075082b0f8f50d87244e2b897b678a2252afa03d974f16e4e0eca8ab9134a1f2"
  },
  "kernelspec": {
   "display_name": "Python 3.8.8 64-bit ('base': conda)",
   "language": "python",
   "name": "python3"
  },
  "language_info": {
   "codemirror_mode": {
    "name": "ipython",
    "version": 3
   },
   "file_extension": ".py",
   "mimetype": "text/x-python",
   "name": "python",
   "nbconvert_exporter": "python",
   "pygments_lexer": "ipython3",
   "version": "3.8.8"
  },
  "orig_nbformat": 4
 },
 "nbformat": 4,
 "nbformat_minor": 2
}
