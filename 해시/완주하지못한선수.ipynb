{
 "cells": [
  {
   "cell_type": "markdown",
   "metadata": {},
   "source": [
    "#### 1차시도 - 효율성에서 만족하지 못함\n",
    "remove 문을 사용하지 않고, pop을 사용하는 방식으로 최대한 효율적으로 설계해보려 하였으나, 초기에 sort 과정에 필요하기에 효율성 측면에서 그다지 뛰어나지 않았던 것으로 판단됨"
   ]
  },
  {
   "cell_type": "code",
   "execution_count": null,
   "metadata": {},
   "outputs": [],
   "source": [
    "def solution(participant, completion):\n",
    "    participant.sort()\n",
    "    completion.sort()\n",
    "    \n",
    "    for complete in completion:\n",
    "        player = participant.pop(0)\n",
    "        if player != complete:\n",
    "            return player\n",
    "    return participant[0]"
   ]
  },
  {
   "cell_type": "markdown",
   "metadata": {},
   "source": [
    "#### 2차시도 - 성공\n",
    "기존과 달리 딕셔너리를 사용해 포문을 생성, 신기한게 포문이 두번이나 도는 구조임에도 불구하고 생각 이상으로 탐색 속도가 빠른 것으로 판단됨"
   ]
  },
  {
   "cell_type": "code",
   "execution_count": null,
   "metadata": {},
   "outputs": [],
   "source": [
    "def solution(participant, completion):\n",
    "    player_list = dict()\n",
    "    \n",
    "    for i in participant:\n",
    "        if i in player_list:\n",
    "            player_list[i] += 1\n",
    "        else:\n",
    "            player_list[i] = 1\n",
    "    for i in completion:\n",
    "        player_list[i] -= 1\n",
    "        if player_list[i] == 0:\n",
    "            del player_list[i]\n",
    "    return list(player_list.keys())[0]"
   ]
  }
 ],
 "metadata": {
  "interpreter": {
   "hash": "297e50f330ef3006f2cf2de334d1afc08b5c25ccea1da1dbdd3d598553a4f695"
  },
  "kernelspec": {
   "display_name": "Python 3.7.9 64-bit (windows store)",
   "language": "python",
   "name": "python3"
  },
  "language_info": {
   "name": "python",
   "version": "3.7.9"
  },
  "orig_nbformat": 4
 },
 "nbformat": 4,
 "nbformat_minor": 2
}
