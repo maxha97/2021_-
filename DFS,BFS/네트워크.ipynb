{
 "cells": [
  {
   "cell_type": "markdown",
   "metadata": {},
   "source": [
    "문제 설명\n",
    "네트워크란 컴퓨터 상호 간에 정보를 교환할 수 있도록 연결된 형태를 의미합니다. 예를 들어, 컴퓨터 A와 컴퓨터 B가 직접적으로 연결되어있고, 컴퓨터 B와 컴퓨터 C가 직접적으로 연결되어 있을 때 컴퓨터 A와 컴퓨터 C도 간접적으로 연결되어 정보를 교환할 수 있습니다. 따라서 컴퓨터 A, B, C는 모두 같은 네트워크 상에 있다고 할 수 있습니다.\n",
    "\n",
    "컴퓨터의 개수 n, 연결에 대한 정보가 담긴 2차원 배열 computers가 매개변수로 주어질 때, 네트워크의 개수를 return 하도록 solution 함수를 작성하시오.\n",
    "\n",
    "제한사항\n",
    "컴퓨터의 개수 n은 1 이상 200 이하인 자연수입니다.\n",
    "각 컴퓨터는 0부터 n-1인 정수로 표현합니다.\n",
    "i번 컴퓨터와 j번 컴퓨터가 연결되어 있으면 computers[i][j]를 1로 표현합니다.\n",
    "computer[i][i]는 항상 1입니다.\n",
    "\n",
    "#### 입출력 예\n",
    "#### n\tcomputers\treturn\n",
    "#### 3\t[[1, 1, 0], [1, 1, 0], [0, 0, 1]]\t2\n",
    "#### 3\t[[1, 1, 0], [1, 1, 1], [0, 1, 1]]\t1"
   ]
  },
  {
   "cell_type": "code",
   "execution_count": 2,
   "metadata": {},
   "outputs": [],
   "source": [
    "def dfs(computers, v, visited):\n",
    "    visited[v] = True\n",
    "    for i,j in enumerate(computers[v]):\n",
    "        if j == 1  and not visited[i]:\n",
    "            dfs(computers, i, visited)\n",
    "            \n",
    "def solution(n, computers):\n",
    "    visited = [False]*n\n",
    "    answer = 0\n",
    "    for i in list(range(n)):\n",
    "        if not visited[i]:\n",
    "            answer+=1\n",
    "            dfs(computers, i, visited)\n",
    "    return answer"
   ]
  },
  {
   "cell_type": "code",
   "execution_count": 4,
   "metadata": {},
   "outputs": [
    {
     "name": "stdout",
     "output_type": "stream",
     "text": [
      "2\n"
     ]
    }
   ],
   "source": [
    "print( solution( 3, [[1, 1, 0], [1, 1, 0], [0, 0, 1]] ) )"
   ]
  },
  {
   "cell_type": "code",
   "execution_count": 5,
   "metadata": {},
   "outputs": [
    {
     "name": "stdout",
     "output_type": "stream",
     "text": [
      "1\n"
     ]
    }
   ],
   "source": [
    "print( solution( 3, [[1, 1, 0], [1, 1, 1], [0, 1, 1]] ) )"
   ]
  },
  {
   "cell_type": "code",
   "execution_count": null,
   "metadata": {},
   "outputs": [],
   "source": []
  }
 ],
 "metadata": {
  "interpreter": {
   "hash": "075082b0f8f50d87244e2b897b678a2252afa03d974f16e4e0eca8ab9134a1f2"
  },
  "kernelspec": {
   "display_name": "Python 3.8.8 64-bit ('base': conda)",
   "name": "python3"
  },
  "language_info": {
   "codemirror_mode": {
    "name": "ipython",
    "version": 3
   },
   "file_extension": ".py",
   "mimetype": "text/x-python",
   "name": "python",
   "nbconvert_exporter": "python",
   "pygments_lexer": "ipython3",
   "version": "3.8.8"
  },
  "orig_nbformat": 4
 },
 "nbformat": 4,
 "nbformat_minor": 2
}
