{
 "cells": [
  {
   "cell_type": "code",
   "execution_count": 1,
   "metadata": {},
   "outputs": [],
   "source": [
    "import re\n",
    "\n",
    "def solution(dartResult):\n",
    "    dartResult = dartResult.replace('10', 'Z')\n",
    "    double = {'S':1, 'D':2, 'T':3}\n",
    "    scoreBoard = {1:1, 2:1, 3:1}\n",
    "    \n",
    "    number = 0\n",
    "    for i in dartResult:\n",
    "        if i.isdigit() or i== 'Z':\n",
    "            number += 1 \n",
    "            scoreBoard[number] *= ( 10 if i=='Z' else int(i) )\n",
    "        elif i.isalpha():\n",
    "            scoreBoard[number] = scoreBoard[number]**double[i]\n",
    "        else:\n",
    "            if i == '#': scoreBoard[number] *= (-1)\n",
    "            elif i == '*': \n",
    "                scoreBoard[number] *= (2)\n",
    "                if number > 1:\n",
    "                    scoreBoard[number-1] *= (2)\n",
    "    \n",
    "    return sum(scoreBoard.values())"
   ]
  },
  {
   "cell_type": "code",
   "execution_count": null,
   "metadata": {},
   "outputs": [],
   "source": []
  }
 ],
 "metadata": {
  "interpreter": {
   "hash": "075082b0f8f50d87244e2b897b678a2252afa03d974f16e4e0eca8ab9134a1f2"
  },
  "kernelspec": {
   "display_name": "Python 3.8.8 64-bit ('base': conda)",
   "language": "python",
   "name": "python3"
  },
  "language_info": {
   "codemirror_mode": {
    "name": "ipython",
    "version": 3
   },
   "file_extension": ".py",
   "mimetype": "text/x-python",
   "name": "python",
   "nbconvert_exporter": "python",
   "pygments_lexer": "ipython3",
   "version": "3.8.8"
  },
  "orig_nbformat": 4
 },
 "nbformat": 4,
 "nbformat_minor": 2
}
