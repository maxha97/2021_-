{
 "cells": [
  {
   "cell_type": "code",
   "execution_count": 11,
   "metadata": {},
   "outputs": [],
   "source": [
    "def solution(n, arr1, arr2):\n",
    "\n",
    "    for num,i in enumerate(arr1):\n",
    "        if len(format(i, 'b')) == n:\n",
    "            arr1[num] = [int(i) for i in list(str(format(i,'b')))]\n",
    "        else:\n",
    "            arr1[num] = [0] + [int(i) for i in list(str(format(i,'b')))]\n",
    "    \n",
    "    for num,i in enumerate(arr2):\n",
    "        if len(format(i, 'b')) == n:\n",
    "            arr2[num] = [int(i) for i in list(str(format(i,'b')))]\n",
    "        else:\n",
    "            num = n - len(format(i, 'b'))\n",
    "            arr2[num] = [0]*(num-n) + [int(i) for i in list(str(format(i,'b')))]\n",
    "    \n",
    "    \n",
    "    print(arr1)\n",
    "    print(arr2)\n",
    "    answer = []\n",
    "    for i in range(n):\n",
    "        letter = ''\n",
    "        for j in range(n):\n",
    "            print(i,j)\n",
    "            if (arr1[i][j] + arr2[i][j]):\n",
    "                letter+='#'\n",
    "            else:\n",
    "                letter+=' '\n",
    "        answer.append(letter)\n",
    "                \n",
    "    return answer"
   ]
  }
 ],
 "metadata": {
  "interpreter": {
   "hash": "075082b0f8f50d87244e2b897b678a2252afa03d974f16e4e0eca8ab9134a1f2"
  },
  "kernelspec": {
   "display_name": "Python 3.8.8 64-bit ('base': conda)",
   "language": "python",
   "name": "python3"
  },
  "language_info": {
   "codemirror_mode": {
    "name": "ipython",
    "version": 3
   },
   "file_extension": ".py",
   "mimetype": "text/x-python",
   "name": "python",
   "nbconvert_exporter": "python",
   "pygments_lexer": "ipython3",
   "version": "3.8.8"
  },
  "orig_nbformat": 4
 },
 "nbformat": 4,
 "nbformat_minor": 2
}
