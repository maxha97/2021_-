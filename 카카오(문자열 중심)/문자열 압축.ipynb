{
 "cells": [
  {
   "cell_type": "code",
   "execution_count": 8,
   "metadata": {},
   "outputs": [],
   "source": [
    "#다양한 케이스를 고려하는 것이 중요\n",
    "#일단 짜긴 했는데 뭔가 아쉬움"
   ]
  },
  {
   "cell_type": "code",
   "execution_count": 9,
   "metadata": {},
   "outputs": [],
   "source": [
    "def solution(s):\n",
    "    howlong = len(s)\n",
    "    case_list = []\n",
    "    \n",
    "    if len(s) >1:\n",
    "        for num in range(1, round(howlong/2)+1):\n",
    "            num_list= []\n",
    "            for i in range(0,howlong+1,num):\n",
    "                if i+num <= howlong-1:\n",
    "                    num_list.append( s[i:i+num] )\n",
    "                else:\n",
    "                    if s[i:]:\n",
    "                        num_list.append( s[i:] )\n",
    "\n",
    "            count = 0\n",
    "            previous = num_list[0]\n",
    "            num_str=''\n",
    "            for i in range(1, len(num_list)):\n",
    "                if previous == num_list[i]:\n",
    "                    count+=1\n",
    "                else:\n",
    "                    if count:\n",
    "                        num_str += (str(count+1)+ str(num_list[i-1]))\n",
    "                    else:\n",
    "                        num_str += str(num_list[i-1])\n",
    "                    count=0\n",
    "                    previous = num_list[i]\n",
    "            if count:\n",
    "                num_str += (str(count+1)+ str(num_list[i]))\n",
    "            else:\n",
    "                num_str += str(num_list[i])\n",
    "            case_list.append(num_str)\n",
    "\n",
    "        case_len = [len(i) for i in case_list]\n",
    "        return min(case_len)\n",
    "    else:\n",
    "        return len(s)"
   ]
  },
  {
   "cell_type": "code",
   "execution_count": 10,
   "metadata": {},
   "outputs": [
    {
     "name": "stdout",
     "output_type": "stream",
     "text": [
      "7\n"
     ]
    }
   ],
   "source": [
    "print(solution('aabbaccc'))"
   ]
  },
  {
   "cell_type": "code",
   "execution_count": null,
   "metadata": {},
   "outputs": [],
   "source": [
    "#다른 사람 풀이\n",
    "def compress(text, tok_len):\n",
    "    words = [text[i:i+tok_len] for i in range(0, len(text), tok_len)]\n",
    "    res = []\n",
    "    cur_word = words[0]\n",
    "    cur_cnt = 1\n",
    "    for a, b in zip(words, words[1:] + ['']):\n",
    "        if a == b:\n",
    "            cur_cnt += 1\n",
    "        else:\n",
    "            res.append([cur_word, cur_cnt])\n",
    "            cur_word = b\n",
    "            cur_cnt = 1\n",
    "    return sum(len(word) + (len(str(cnt)) if cnt > 1 else 0) for word, cnt in res)\n",
    "\n",
    "def solution(text):\n",
    "    return min(compress(text, tok_len) for tok_len in list(range(1, int(len(text)/2) + 1)) + [len(text)])\n",
    "\n",
    "a = [\n",
    "    \"aabbaccc\",\n",
    "    \"ababcdcdababcdcd\",\n",
    "    \"abcabcdede\",\n",
    "    \"abcabcabcabcdededededede\",\n",
    "    \"xababcdcdababcdcd\",\n",
    "\n",
    "    'aaaaaa',\n",
    "]\n",
    "\n",
    "for x in a:\n",
    "    print(solution(x))\n"
   ]
  }
 ],
 "metadata": {
  "interpreter": {
   "hash": "297e50f330ef3006f2cf2de334d1afc08b5c25ccea1da1dbdd3d598553a4f695"
  },
  "kernelspec": {
   "display_name": "Python 3.7.9 64-bit (windows store)",
   "language": "python",
   "name": "python3"
  },
  "language_info": {
   "codemirror_mode": {
    "name": "ipython",
    "version": 3
   },
   "file_extension": ".py",
   "mimetype": "text/x-python",
   "name": "python",
   "nbconvert_exporter": "python",
   "pygments_lexer": "ipython3",
   "version": "3.8.8"
  },
  "orig_nbformat": 4
 },
 "nbformat": 4,
 "nbformat_minor": 2
}
