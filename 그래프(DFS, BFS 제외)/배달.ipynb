{
 "cells": [
  {
   "cell_type": "code",
   "execution_count": null,
   "metadata": {},
   "outputs": [],
   "source": [
    "INF = 1000000\n",
    "def solution(N, road, K):\n",
    "    roads = { i:[] for i in range(1, N+1)}\n",
    "    \n",
    "    for i,j,k in road:\n",
    "        roads[i].append((j,k))\n",
    "        roads[j].append((i,k))\n",
    "    \n",
    "    passed = [ i for i in range(1,N+1)]\n",
    "    distances = [ INF for _ in range(N+1)]\n",
    "    pos = 1\n",
    "    distances[1] = 0\n",
    "    \n",
    "    while passed:\n",
    "        passed.remove(pos)\n",
    "        for i,j in roads[pos]:\n",
    "            if distances[i] > (distances[pos] + j):\n",
    "                distances[i] = (distances[pos] + j)\n",
    "        \n",
    "        minnum = INF\n",
    "        for i in passed:\n",
    "            if distances[i] < minnum:\n",
    "                minnum = distances[i]\n",
    "                pos = i\n",
    "        \n",
    "    return len([ i for i in distances if i <= K])"
   ]
  },
  {
   "cell_type": "markdown",
   "metadata": {},
   "source": [
    "https://programmers.co.kr/learn/courses/30/lessons/12978"
   ]
  },
  {
   "cell_type": "markdown",
   "metadata": {},
   "source": [
    "다익스트라 알고리즘 사용이 핵심"
   ]
  },
  {
   "cell_type": "markdown",
   "metadata": {},
   "source": []
  }
 ],
 "metadata": {
  "language_info": {
   "name": "python"
  },
  "orig_nbformat": 4
 },
 "nbformat": 4,
 "nbformat_minor": 2
}
